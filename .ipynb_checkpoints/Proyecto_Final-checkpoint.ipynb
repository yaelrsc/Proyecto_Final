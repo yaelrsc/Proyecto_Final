{
 "cells": [
  {
   "cell_type": "markdown",
   "id": "87a17798-57d9-4a03-b4f0-a36510bb3e92",
   "metadata": {},
   "source": [
    "# <center> **Optimización Bayesiana para la Selección de Hiperparámetros en Modelos de Detección de Tumores Cerebrales** </center>"
   ]
  },
  {
   "cell_type": "code",
   "execution_count": 81,
   "id": "66c0cfd1-7e0d-45a4-bb16-26c118b78df4",
   "metadata": {},
   "outputs": [],
   "source": [
    "import torch\n",
    "import torch.optim as optim\n",
    "import torchvision\n",
    "import matplotlib.pyplot as plt\n",
    "import numpy as np\n",
    "import pandas as pd \n",
    "import bayes_opt\n",
    "from sklearn.metrics import confusion_matrix, ConfusionMatrixDisplay\n",
    "from collections import Counter\n",
    "from torchsummary import summary"
   ]
  },
  {
   "cell_type": "markdown",
   "id": "5997d012-06d7-463f-9005-6e85205ea776",
   "metadata": {},
   "source": [
    "# **Carga de los datos**"
   ]
  },
  {
   "cell_type": "code",
   "execution_count": 2,
   "id": "54c24805-c66a-4d55-b156-a02fc465a016",
   "metadata": {},
   "outputs": [],
   "source": [
    "\n",
    "# Transformación y carga de las imagenes.\n",
    "data_transforms = torchvision.transforms.Compose([\n",
    "torchvision.transforms.Resize((224,224)),\n",
    "torchvision.transforms.RandomHorizontalFlip(),\n",
    "torchvision.transforms.RandomRotation(20),\n",
    "torchvision.transforms.ToTensor(),\n",
    "torchvision.transforms.Normalize(mean=[0.485, 0.456, 0.406], std=[0.229, 0.224, 0.225])\n",
    "])\n",
    "\n",
    "train_data = torchvision.datasets.ImageFolder('imagenes/Training',\n",
    "                                              transform=data_transforms)\n",
    "train_loader = torch.utils.data.DataLoader(train_data,batch_size=20,shuffle=True)\n",
    "\n",
    "\n",
    "test_data = torchvision.datasets.ImageFolder('imagenes/Testing',\n",
    "                                              transform=data_transforms)\n",
    "test_loader = torch.utils.data.DataLoader(test_data,batch_size=20,shuffle=False)\n"
   ]
  },
  {
   "cell_type": "code",
   "execution_count": 74,
   "id": "de93698d-2c04-416a-968f-2991f7b72f63",
   "metadata": {},
   "outputs": [],
   "source": [
    "\n",
    "def plot_label_distribution_percentage(dataloader, class_names):\n",
    "   \n",
    "    # Contar las etiquetas\n",
    "    all_labels = []\n",
    "    for _, labels in dataloader:\n",
    "        all_labels.extend(labels.numpy())  # Convertir a numpy y agregar a la lista\n",
    "\n",
    "    label_counts = Counter(all_labels)  # Contar las etiquetas\n",
    "    total_count = sum(label_counts.values())  # Total de etiquetas\n",
    "    sorted_labels = sorted(label_counts.items())  # Ordenar por clase\n",
    "\n",
    "    # Extraer clases y porcentajes\n",
    "    classes = [class_names[label] for label, _ in sorted_labels]\n",
    "    percentages = [(count / total_count) * 100 for _, count in sorted_labels]\n",
    "\n",
    "    # Graficar la distribución en porcentajes\n",
    "    plt.figure(figsize=(10, 6))\n",
    "    plt.bar(classes, percentages, color='skyblue', edgecolor='black')\n",
    "    plt.xlabel(\"Clases\")\n",
    "    plt.ylabel(\"Porcentaje (%)\")\n",
    "    plt.title(\"Distribución Porcentual de Etiquetas\")\n",
    "    plt.xticks(rotation=45, ha=\"right\")  # Rotar los nombres de las clases si son largos\n",
    "    plt.tight_layout()\n",
    "    plt.show()\n"
   ]
  },
  {
   "cell_type": "code",
   "execution_count": 76,
   "id": "8e31068f-54cd-468d-ba29-ae216b822279",
   "metadata": {},
   "outputs": [
    {
     "data": {
      "image/png": "[encoded data removed]",
      "text/plain": [
       "<Figure size 1000x600 with 1 Axes>"
      ]
     },
     "metadata": {},
     "output_type": "display_data"
    }
   ],
   "source": [
    "plot_label_distribution_percentage(train_loader, train_loader.dataset.classes)"
   ]
  },
  {
   "cell_type": "markdown",
   "id": "a73cb6d3-1be4-43a1-a2ed-6b573756e2d7",
   "metadata": {},
   "source": [
    "# **Creación de la red neuronal convolucional**"
   ]
  },
  {
   "cell_type": "code",
   "execution_count": 3,
   "id": "494d37ed-d3c7-4089-a7f1-3ccc907a7a15",
   "metadata": {},
   "outputs": [],
   "source": [
    "\n",
    "# Creación de la arquitectura de la red neuronal Convolucional\n",
    "class ConvNN(torch.nn.Module):\n",
    "\n",
    "    def __init__(self,activation,nn = 128,dropout_rate = 0.5):\n",
    "        super().__init__()\n",
    "        self.activation = activation\n",
    "        self.normalize1_layer = torch.nn.BatchNorm2d(3)\n",
    "        # self.normalize2_layer = torch.nn.BatchNorm2d(16)\n",
    "        self.normalize3_layer = torch.nn.BatchNorm2d(32)\n",
    "        #self.normalize4_layer = torch.nn.BatchNorm2d(8)\n",
    "\n",
    "        self.Droput1_layer = torch.nn.Dropout(dropout_rate)\n",
    "        #self.Droput2_layer = torch.nn.Dropout(0.4)\n",
    "\n",
    "        \n",
    "        self.conv1_layer = torch.nn.Conv2d(3,16,kernel_size=3,padding=2)\n",
    "        self.maxpo1_layer = torch.nn.MaxPool2d(kernel_size=2,stride=2)\n",
    "        \n",
    "        self.conv2_layer = torch.nn.Conv2d(16,32,kernel_size=3,padding=2)\n",
    "        self.maxpo2_layer = torch.nn.MaxPool2d(kernel_size=2,stride=2)\n",
    "\n",
    "\n",
    "        self.flatten_layer = torch.nn.Flatten()\n",
    "\n",
    "        self.fc1_layer = torch.nn.Linear(103968,nn)\n",
    "        self.fc2_layer = torch.nn.Linear(nn,4)\n",
    "\n",
    "    def forward(self,x):\n",
    "\n",
    "        x = self.normalize1_layer(x)\n",
    "        x = self.conv1_layer(x)\n",
    "        x = self.maxpo1_layer(x)\n",
    "        x = self.activation(x)\n",
    "        \n",
    "        \n",
    "        x = self.conv2_layer(x)\n",
    "        x = self.maxpo2_layer(x)\n",
    "        x = self.activation(x)\n",
    "\n",
    "\n",
    "        x = self.normalize3_layer(x)\n",
    "        x = self.flatten_layer(x)\n",
    "\n",
    "        \n",
    "        x = self.fc1_layer(x)\n",
    "        x = self.activation(x)\n",
    "        x = self.Droput1_layer(x)\n",
    "\n",
    "        x = self.fc2_layer(x)\n",
    "        x = torch.functional.F.softmax(x)\n",
    "        \n",
    "        \n",
    "\n",
    "        return x\n",
    "\n",
    "        \n",
    "        \n",
    "        \n",
    "        "
   ]
  },
  {
   "cell_type": "code",
   "execution_count": 79,
   "id": "8bf13dd4-490d-4f2c-8f0f-ec525657b7ed",
   "metadata": {},
   "outputs": [
    {
     "name": "stdout",
     "output_type": "stream",
     "text": [
      "==========================================================================================\n",
      "Layer (type:depth-idx)                   Output Shape              Param #\n",
      "==========================================================================================\n",
      "├─BatchNorm2d: 1-1                       [-1, 3, 224, 224]         6\n",
      "├─Conv2d: 1-2                            [-1, 16, 226, 226]        448\n",
      "├─MaxPool2d: 1-3                         [-1, 16, 113, 113]        --\n",
      "├─ReLU: 1-4                              [-1, 16, 113, 113]        --\n",
      "├─Conv2d: 1-5                            [-1, 32, 115, 115]        4,640\n",
      "├─MaxPool2d: 1-6                         [-1, 32, 57, 57]          --\n",
      "├─ReLU: 1-7                              [-1, 32, 57, 57]          --\n",
      "├─BatchNorm2d: 1-8                       [-1, 32, 57, 57]          64\n",
      "├─Flatten: 1-9                           [-1, 103968]              --\n",
      "├─Linear: 1-10                           [-1, 128]                 13,308,032\n",
      "├─ReLU: 1-11                             [-1, 128]                 --\n",
      "├─Dropout: 1-12                          [-1, 128]                 --\n",
      "├─Linear: 1-13                           [-1, 4]                   516\n",
      "==========================================================================================\n",
      "Total params: 13,313,706\n",
      "Trainable params: 13,313,706\n",
      "Non-trainable params: 0\n",
      "Total mult-adds (M): 96.31\n",
      "==========================================================================================\n",
      "Input size (MB): 0.57\n",
      "Forward/backward pass size (MB): 11.41\n",
      "Params size (MB): 50.79\n",
      "Estimated Total Size (MB): 62.77\n",
      "==========================================================================================\n"
     ]
    },
    {
     "name": "stderr",
     "output_type": "stream",
     "text": [
      "C:\\Users\\Academica\\AppData\\Local\\Temp\\ipykernel_15160\\1764170150.py:50: UserWarning: Implicit dimension choice for softmax has been deprecated. Change the call to include dim=X as an argument.\n",
      "  x = torch.functional.F.softmax(x)\n"
     ]
    },
    {
     "data": {
      "text/plain": [
       "==========================================================================================\n",
       "Layer (type:depth-idx)                   Output Shape              Param #\n",
       "==========================================================================================\n",
       "├─BatchNorm2d: 1-1                       [-1, 3, 224, 224]         6\n",
       "├─Conv2d: 1-2                            [-1, 16, 226, 226]        448\n",
       "├─MaxPool2d: 1-3                         [-1, 16, 113, 113]        --\n",
       "├─ReLU: 1-4                              [-1, 16, 113, 113]        --\n",
       "├─Conv2d: 1-5                            [-1, 32, 115, 115]        4,640\n",
       "├─MaxPool2d: 1-6                         [-1, 32, 57, 57]          --\n",
       "├─ReLU: 1-7                              [-1, 32, 57, 57]          --\n",
       "├─BatchNorm2d: 1-8                       [-1, 32, 57, 57]          64\n",
       "├─Flatten: 1-9                           [-1, 103968]              --\n",
       "├─Linear: 1-10                           [-1, 128]                 13,308,032\n",
       "├─ReLU: 1-11                             [-1, 128]                 --\n",
       "├─Dropout: 1-12                          [-1, 128]                 --\n",
       "├─Linear: 1-13                           [-1, 4]                   516\n",
       "==========================================================================================\n",
       "Total params: 13,313,706\n",
       "Trainable params: 13,313,706\n",
       "Non-trainable params: 0\n",
       "Total mult-adds (M): 96.31\n",
       "==========================================================================================\n",
       "Input size (MB): 0.57\n",
       "Forward/backward pass size (MB): 11.41\n",
       "Params size (MB): 50.79\n",
       "Estimated Total Size (MB): 62.77\n",
       "=========================================================================================="
      ]
     },
     "execution_count": 79,
     "metadata": {},
     "output_type": "execute_result"
    }
   ],
   "source": [
    "modelo_prueba = ConvNN(torch.nn.ReLU())\n",
    "summary(modelo_prueba, (3, 224, 224))"
   ]
  },
  {
   "cell_type": "markdown",
   "id": "59931abe-c0dc-4147-b9b3-6f31e9b0b7d9",
   "metadata": {},
   "source": [
    "# **Funciones para entrenar y evaluar el modelo**"
   ]
  },
  {
   "cell_type": "code",
   "execution_count": 4,
   "id": "32c1537c-2b6b-41d9-b481-084ed3bce85d",
   "metadata": {},
   "outputs": [],
   "source": [
    "def evaluate_model(model, test_loader):\n",
    "    model.eval()\n",
    "    correct = 0\n",
    "    total = 0\n",
    "    with torch.no_grad():\n",
    "        for images, labels in test_loader:\n",
    "            images, labels = images.to(device), labels.to(device)\n",
    "            outputs= model(images)\n",
    "            predicted = outputs.argmax(dim=1)\n",
    "            total += labels.size(0)\n",
    "            correct += (predicted == labels).sum().item()\n",
    "    \n",
    "    accuracy = 100 * correct / total\n",
    "    return accuracy"
   ]
  },
  {
   "cell_type": "code",
   "execution_count": 5,
   "id": "20a05830-5cea-4793-be03-1e849d8190f1",
   "metadata": {},
   "outputs": [],
   "source": [
    "# Asegurarnos de tener un dispositivo adecuado\n",
    "device = torch.device('cuda' if torch.cuda.is_available() else 'cpu')\n",
    "\n",
    "\n",
    "models = []\n",
    "act = torch.nn.ReLU()\n",
    "# Crear una instancia del modelo\n",
    "model = ConvNN(activation=act).to(device)\n",
    "\n",
    "# Definir el optimizador y la función de pérdida\n",
    "criterion = torch.nn.CrossEntropyLoss()\n",
    "optimizer = torch.optim.Adam(model.parameters(), lr=0.0001)\n",
    "\n",
    "# Función para entrenar el modelo\n",
    "def train_model(model, train_loader, criterion, optimizer, epochs=10,save_model = True):\n",
    "    model.train()\n",
    "    for epoch in range(epochs):\n",
    "        running_loss = 0.0\n",
    "        correct = 0\n",
    "        total = 0\n",
    "        \n",
    "        for images, labels in train_loader:\n",
    "            images, labels = images.to(device), labels.to(device)\n",
    "            \n",
    "            # Reiniciar gradientes\n",
    "            optimizer.zero_grad()\n",
    "            \n",
    "            # Forward pass\n",
    "            outputs = model(images)\n",
    "            loss = criterion(outputs, labels)\n",
    "            \n",
    "            # Backward pass y optimización\n",
    "            loss.backward()\n",
    "            optimizer.step()\n",
    "            \n",
    "            running_loss += loss.item()\n",
    "            predicted = outputs.argmax(dim=1)\n",
    "            total += labels.size(0)\n",
    "            correct += torch.sum(predicted == labels).item()\n",
    "        \n",
    "        # Estadísticas de entrenamiento por época\n",
    "        epoch_loss = running_loss / len(train_loader)\n",
    "        epoch_accuracy = 100 * correct / total\n",
    "\n",
    "        test_accuracy = evaluate_model(model,test_loader)\n",
    "        print(f'Epoch [{epoch+1}/{epochs}], Train Accuracy: {epoch_accuracy:.4f}%, Test Accuracy: {test_accuracy:.4f}%')\n",
    "\n",
    "    if save_model:\n",
    "\n",
    "        models.append(model)\n",
    "\n",
    "    return epoch_accuracy, test_accuracy\n",
    "\n",
    "\n",
    "# Entrenamiento y evaluación\n",
    "#epochs = 1\n",
    "#train_model(model, train_loader, criterion, optimizer, epochs)\n",
    "# evaluate_model(model, test_loader)\n"
   ]
  },
  {
   "cell_type": "markdown",
   "id": "56213bb3-c68f-4d8b-876a-1390dcbdd5d9",
   "metadata": {},
   "source": [
    "# **Optimización Bayesiana**"
   ]
  },
  {
   "cell_type": "code",
   "execution_count": 6,
   "id": "e962f090-e6cc-4df8-bd37-3204eb8c0972",
   "metadata": {},
   "outputs": [],
   "source": [
    "\n",
    "act_functions = [torch.nn.ReLU(),torch.nn.Tanh()]\n",
    "\n",
    "# Función objetivo\n",
    "def blackbox_function(activation,nn,lr,epochs,dropout_rate):\n",
    "\n",
    "    model = ConvNN(activation=act_functions[int(activation)],dropout_rate=dropout_rate,nn=int(nn)).to(device)\n",
    "\n",
    "    criterion = torch.nn.CrossEntropyLoss()\n",
    "    optimizer = torch.optim.Adam(model.parameters(), lr=lr)\n",
    "\n",
    "    train_accuracy, test_accuracy = train_model(model, train_loader, criterion, optimizer, int(epochs))\n",
    "\n",
    "    objective = test_accuracy - abs(train_accuracy-test_accuracy)\n",
    "\n",
    "\n",
    "    return objective"
   ]
  },
  {
   "cell_type": "code",
   "execution_count": 10,
   "id": "2f7d7ceb-4d3c-4748-9e57-4e4bdc1331c9",
   "metadata": {},
   "outputs": [],
   "source": [
    "# Espacio de los parámetros\n",
    "search_space = {\n",
    "    \"lr\": (1e-6, 1e-4),\n",
    "    \"nn\": (100, 200),\n",
    "    \"activation\": (0, 1),\n",
    "    \"epochs\": (10,20),\n",
    "    \"dropout_rate\": (0.2,0.8)\n",
    "}"
   ]
  },
  {
   "cell_type": "code",
   "execution_count": 11,
   "id": "241460b0-74db-429e-b052-88ec84e96ab3",
   "metadata": {},
   "outputs": [],
   "source": [
    "bayes_optimizer = bayes_opt.BayesianOptimization(blackbox_function,search_space,random_state=1)"
   ]
  },
  {
   "cell_type": "code",
   "execution_count": 12,
   "id": "7c680601-5927-4dc5-9769-ea3377c8c34f",
   "metadata": {
    "scrolled": true
   },
   "outputs": [
    {
     "name": "stdout",
     "output_type": "stream",
     "text": [
      "|   iter    |  target   | activa... | dropou... |  epochs   |    lr     |    nn     |\n",
      "-------------------------------------------------------------------------------------\n"
     ]
    },
    {
     "name": "stderr",
     "output_type": "stream",
     "text": [
      "C:\\Users\\Academica\\AppData\\Local\\Temp\\ipykernel_15160\\1764170150.py:50: UserWarning: Implicit dimension choice for softmax has been deprecated. Change the call to include dim=X as an argument.\n",
      "  x = torch.functional.F.softmax(x)\n"
     ]
    },
    {
     "name": "stdout",
     "output_type": "stream",
     "text": [
      "Epoch [1/10], Train Accuracy: 70.0858%, Test Accuracy: 74.5233%\n",
      "Epoch [2/10], Train Accuracy: 83.6163%, Test Accuracy: 78.6423%\n",
      "Epoch [3/10], Train Accuracy: 86.1369%, Test Accuracy: 81.3120%\n",
      "Epoch [4/10], Train Accuracy: 87.6947%, Test Accuracy: 83.8291%\n",
      "Epoch [5/10], Train Accuracy: 88.9025%, Test Accuracy: 83.9817%\n",
      "Epoch [6/10], Train Accuracy: 90.0228%, Test Accuracy: 85.5072%\n",
      "Epoch [7/10], Train Accuracy: 90.6354%, Test Accuracy: 85.8124%\n",
      "Epoch [8/10], Train Accuracy: 91.1955%, Test Accuracy: 85.6598%\n",
      "Epoch [9/10], Train Accuracy: 91.6856%, Test Accuracy: 87.1091%\n",
      "Epoch [10/10], Train Accuracy: 91.8082%, Test Accuracy: 84.8207%\n",
      "| \u001b[39m1        \u001b[39m | \u001b[39m77.83    \u001b[39m | \u001b[39m0.417    \u001b[39m | \u001b[39m0.6322   \u001b[39m | \u001b[39m10.0     \u001b[39m | \u001b[39m3.093e-05\u001b[39m | \u001b[39m114.7    \u001b[39m |\n",
      "Epoch [1/13], Train Accuracy: 75.5470%, Test Accuracy: 76.0488%\n",
      "Epoch [2/13], Train Accuracy: 84.3690%, Test Accuracy: 78.8711%\n",
      "Epoch [3/13], Train Accuracy: 87.0646%, Test Accuracy: 81.6171%\n",
      "Epoch [4/13], Train Accuracy: 88.0973%, Test Accuracy: 82.9138%\n",
      "Epoch [5/13], Train Accuracy: 88.6224%, Test Accuracy: 83.2189%\n",
      "Epoch [6/13], Train Accuracy: 89.7427%, Test Accuracy: 82.4561%\n",
      "Epoch [7/13], Train Accuracy: 91.0380%, Test Accuracy: 84.1342%\n",
      "Epoch [8/13], Train Accuracy: 91.0030%, Test Accuracy: 86.4989%\n",
      "Epoch [9/13], Train Accuracy: 92.1057%, Test Accuracy: 87.2616%\n",
      "Epoch [10/13], Train Accuracy: 91.6681%, Test Accuracy: 85.7361%\n",
      "Epoch [11/13], Train Accuracy: 92.1057%, Test Accuracy: 86.4226%\n",
      "Epoch [12/13], Train Accuracy: 92.8759%, Test Accuracy: 87.1091%\n",
      "Epoch [13/13], Train Accuracy: 92.8934%, Test Accuracy: 83.3715%\n",
      "| \u001b[39m2        \u001b[39m | \u001b[39m73.85    \u001b[39m | \u001b[39m0.09234  \u001b[39m | \u001b[39m0.3118   \u001b[39m | \u001b[39m13.46    \u001b[39m | \u001b[39m4.028e-05\u001b[39m | \u001b[39m153.9    \u001b[39m |\n",
      "Epoch [1/12], Train Accuracy: 67.9503%, Test Accuracy: 72.8452%\n",
      "Epoch [2/12], Train Accuracy: 82.4611%, Test Accuracy: 77.5744%\n",
      "Epoch [3/12], Train Accuracy: 85.2267%, Test Accuracy: 80.2441%\n",
      "Epoch [4/12], Train Accuracy: 85.5768%, Test Accuracy: 79.3288%\n",
      "Epoch [5/12], Train Accuracy: 87.7297%, Test Accuracy: 80.9306%\n",
      "Epoch [6/12], Train Accuracy: 88.9375%, Test Accuracy: 83.4477%\n",
      "Epoch [7/12], Train Accuracy: 89.2351%, Test Accuracy: 80.3966%\n",
      "Epoch [8/12], Train Accuracy: 89.7602%, Test Accuracy: 83.2189%\n",
      "Epoch [9/12], Train Accuracy: 89.8827%, Test Accuracy: 83.8291%\n",
      "Epoch [10/12], Train Accuracy: 90.6529%, Test Accuracy: 83.6003%\n",
      "Epoch [11/12], Train Accuracy: 91.1955%, Test Accuracy: 84.5156%\n",
      "Epoch [12/12], Train Accuracy: 90.7229%, Test Accuracy: 83.3715%\n",
      "| \u001b[39m3        \u001b[39m | \u001b[39m76.02    \u001b[39m | \u001b[39m0.4192   \u001b[39m | \u001b[39m0.6111   \u001b[39m | \u001b[39m12.04    \u001b[39m | \u001b[39m8.793e-05\u001b[39m | \u001b[39m102.7    \u001b[39m |\n",
      "Epoch [1/15], Train Accuracy: 73.0439%, Test Accuracy: 75.4386%\n",
      "Epoch [2/15], Train Accuracy: 84.3340%, Test Accuracy: 78.3371%\n",
      "Epoch [3/15], Train Accuracy: 86.6620%, Test Accuracy: 79.8627%\n",
      "Epoch [4/15], Train Accuracy: 87.5722%, Test Accuracy: 81.1594%\n",
      "Epoch [5/15], Train Accuracy: 88.4299%, Test Accuracy: 83.9054%\n",
      "Epoch [6/15], Train Accuracy: 90.1453%, Test Accuracy: 84.8207%\n",
      "Epoch [7/15], Train Accuracy: 90.6704%, Test Accuracy: 84.5919%\n",
      "Epoch [8/15], Train Accuracy: 91.4756%, Test Accuracy: 84.9733%\n",
      "Epoch [9/15], Train Accuracy: 91.8957%, Test Accuracy: 87.2616%\n",
      "Epoch [10/15], Train Accuracy: 92.0357%, Test Accuracy: 85.6598%\n",
      "Epoch [11/15], Train Accuracy: 92.6483%, Test Accuracy: 87.1854%\n",
      "Epoch [12/15], Train Accuracy: 92.9459%, Test Accuracy: 86.2700%\n",
      "Epoch [13/15], Train Accuracy: 93.0509%, Test Accuracy: 87.6430%\n",
      "Epoch [14/15], Train Accuracy: 93.5761%, Test Accuracy: 87.7956%\n",
      "Epoch [15/15], Train Accuracy: 93.8211%, Test Accuracy: 88.4058%\n",
      "| \u001b[35m4        \u001b[39m | \u001b[35m82.99    \u001b[39m | \u001b[35m0.6705   \u001b[39m | \u001b[35m0.4504   \u001b[39m | \u001b[35m15.59    \u001b[39m | \u001b[35m1.49e-05 \u001b[39m | \u001b[35m119.8    \u001b[39m |\n",
      "Epoch [1/13], Train Accuracy: 60.6862%, Test Accuracy: 70.1754%\n",
      "Epoch [2/13], Train Accuracy: 81.5684%, Test Accuracy: 79.5576%\n",
      "Epoch [3/13], Train Accuracy: 85.1217%, Test Accuracy: 79.4050%\n",
      "Epoch [4/13], Train Accuracy: 86.6095%, Test Accuracy: 82.4561%\n",
      "Epoch [5/13], Train Accuracy: 88.3949%, Test Accuracy: 83.8291%\n",
      "Epoch [6/13], Train Accuracy: 89.1826%, Test Accuracy: 84.7445%\n",
      "Epoch [7/13], Train Accuracy: 90.5829%, Test Accuracy: 85.3547%\n",
      "Epoch [8/13], Train Accuracy: 91.0030%, Test Accuracy: 85.3547%\n",
      "Epoch [9/13], Train Accuracy: 91.1430%, Test Accuracy: 85.9649%\n",
      "Epoch [10/13], Train Accuracy: 91.4056%, Test Accuracy: 84.1342%\n",
      "Epoch [11/13], Train Accuracy: 91.2480%, Test Accuracy: 86.2700%\n",
      "Epoch [12/13], Train Accuracy: 92.4208%, Test Accuracy: 84.2105%\n",
      "Epoch [13/13], Train Accuracy: 92.2983%, Test Accuracy: 85.9649%\n",
      "| \u001b[39m5        \u001b[39m | \u001b[39m79.63    \u001b[39m | \u001b[39m0.8007   \u001b[39m | \u001b[39m0.781    \u001b[39m | \u001b[39m13.13    \u001b[39m | \u001b[39m6.954e-05\u001b[39m | \u001b[39m187.6    \u001b[39m |\n",
      "Epoch [1/10], Train Accuracy: 76.0721%, Test Accuracy: 75.7437%\n",
      "Epoch [2/10], Train Accuracy: 84.0889%, Test Accuracy: 78.5660%\n",
      "Epoch [3/10], Train Accuracy: 86.2244%, Test Accuracy: 80.9306%\n",
      "Epoch [4/10], Train Accuracy: 87.1871%, Test Accuracy: 83.2952%\n",
      "Epoch [5/10], Train Accuracy: 88.9025%, Test Accuracy: 84.2868%\n",
      "Epoch [6/10], Train Accuracy: 89.5326%, Test Accuracy: 84.6682%\n",
      "Epoch [7/10], Train Accuracy: 90.4954%, Test Accuracy: 84.8207%\n",
      "Epoch [8/10], Train Accuracy: 90.8804%, Test Accuracy: 84.5919%\n",
      "Epoch [9/10], Train Accuracy: 91.5981%, Test Accuracy: 86.2700%\n",
      "Epoch [10/10], Train Accuracy: 92.2808%, Test Accuracy: 85.5835%\n",
      "| \u001b[39m6        \u001b[39m | \u001b[39m78.89    \u001b[39m | \u001b[39m0.8946   \u001b[39m | \u001b[39m0.251    \u001b[39m | \u001b[39m10.39    \u001b[39m | \u001b[39m1.781e-05\u001b[39m | \u001b[39m187.8    \u001b[39m |\n",
      "Epoch [1/19], Train Accuracy: 73.5691%, Test Accuracy: 75.7437%\n",
      "Epoch [2/19], Train Accuracy: 83.7738%, Test Accuracy: 78.6423%\n",
      "Epoch [3/19], Train Accuracy: 86.2944%, Test Accuracy: 82.9901%\n",
      "Epoch [4/19], Train Accuracy: 87.7998%, Test Accuracy: 83.6766%\n",
      "Epoch [5/19], Train Accuracy: 89.2526%, Test Accuracy: 84.4394%\n",
      "Epoch [6/19], Train Accuracy: 89.8477%, Test Accuracy: 86.7277%\n",
      "Epoch [7/19], Train Accuracy: 91.0730%, Test Accuracy: 85.8124%\n",
      "Epoch [8/19], Train Accuracy: 91.3706%, Test Accuracy: 86.3463%\n",
      "Epoch [9/19], Train Accuracy: 92.1232%, Test Accuracy: 88.0244%\n",
      "Epoch [10/19], Train Accuracy: 92.1582%, Test Accuracy: 87.0328%\n",
      "Epoch [11/19], Train Accuracy: 92.9284%, Test Accuracy: 86.3463%\n",
      "Epoch [12/19], Train Accuracy: 92.8409%, Test Accuracy: 87.2616%\n",
      "Epoch [13/19], Train Accuracy: 93.4185%, Test Accuracy: 86.8802%\n",
      "Epoch [14/19], Train Accuracy: 93.8911%, Test Accuracy: 88.6346%\n",
      "Epoch [15/19], Train Accuracy: 94.0137%, Test Accuracy: 88.9397%\n",
      "Epoch [16/19], Train Accuracy: 94.1537%, Test Accuracy: 88.3295%\n",
      "Epoch [17/19], Train Accuracy: 94.5038%, Test Accuracy: 89.6262%\n",
      "Epoch [18/19], Train Accuracy: 94.7313%, Test Accuracy: 88.0244%\n",
      "Epoch [19/19], Train Accuracy: 94.7838%, Test Accuracy: 89.3211%\n",
      "| \u001b[35m7        \u001b[39m | \u001b[35m83.86    \u001b[39m | \u001b[35m0.09835  \u001b[39m | \u001b[35m0.4527   \u001b[39m | \u001b[35m19.58    \u001b[39m | \u001b[35m5.378e-05\u001b[39m | \u001b[35m169.2    \u001b[39m |\n",
      "Epoch [1/18], Train Accuracy: 67.4252%, Test Accuracy: 69.3364%\n",
      "Epoch [2/18], Train Accuracy: 80.5706%, Test Accuracy: 74.0656%\n",
      "Epoch [3/18], Train Accuracy: 83.9839%, Test Accuracy: 76.3539%\n",
      "Epoch [4/18], Train Accuracy: 85.0866%, Test Accuracy: 78.2609%\n",
      "Epoch [5/18], Train Accuracy: 86.1019%, Test Accuracy: 78.1846%\n",
      "Epoch [6/18], Train Accuracy: 86.5045%, Test Accuracy: 79.5576%\n",
      "Epoch [7/18], Train Accuracy: 87.3797%, Test Accuracy: 80.2441%\n",
      "Epoch [8/18], Train Accuracy: 87.7823%, Test Accuracy: 81.1594%\n",
      "Epoch [9/18], Train Accuracy: 88.1498%, Test Accuracy: 82.7613%\n",
      "Epoch [10/18], Train Accuracy: 88.6574%, Test Accuracy: 82.5324%\n",
      "Epoch [11/18], Train Accuracy: 89.3926%, Test Accuracy: 82.6850%\n",
      "Epoch [12/18], Train Accuracy: 89.7777%, Test Accuracy: 83.3715%\n",
      "Epoch [13/18], Train Accuracy: 90.1453%, Test Accuracy: 84.0580%\n",
      "Epoch [14/18], Train Accuracy: 90.6354%, Test Accuracy: 83.9817%\n",
      "Epoch [15/18], Train Accuracy: 90.9680%, Test Accuracy: 84.5156%\n",
      "Epoch [16/18], Train Accuracy: 91.1955%, Test Accuracy: 84.7445%\n",
      "Epoch [17/18], Train Accuracy: 91.3881%, Test Accuracy: 85.0496%\n",
      "Epoch [18/18], Train Accuracy: 91.5806%, Test Accuracy: 86.2700%\n",
      "| \u001b[39m8        \u001b[39m | \u001b[39m80.96    \u001b[39m | \u001b[39m0.3155   \u001b[39m | \u001b[39m0.6119   \u001b[39m | \u001b[39m18.35    \u001b[39m | \u001b[39m2.811e-06\u001b[39m | \u001b[39m175.0    \u001b[39m |\n",
      "Epoch [1/12], Train Accuracy: 65.6748%, Test Accuracy: 70.3280%\n",
      "Epoch [2/12], Train Accuracy: 80.8507%, Test Accuracy: 74.9809%\n",
      "Epoch [3/12], Train Accuracy: 83.7388%, Test Accuracy: 78.5660%\n",
      "Epoch [4/12], Train Accuracy: 85.3492%, Test Accuracy: 80.1678%\n",
      "Epoch [5/12], Train Accuracy: 86.2594%, Test Accuracy: 81.0069%\n",
      "Epoch [6/12], Train Accuracy: 87.9223%, Test Accuracy: 82.9901%\n",
      "Epoch [7/12], Train Accuracy: 88.4999%, Test Accuracy: 83.2952%\n",
      "Epoch [8/12], Train Accuracy: 88.8675%, Test Accuracy: 83.8291%\n",
      "Epoch [9/12], Train Accuracy: 89.9352%, Test Accuracy: 83.8291%\n",
      "Epoch [10/12], Train Accuracy: 90.3903%, Test Accuracy: 84.8207%\n",
      "Epoch [11/12], Train Accuracy: 90.2853%, Test Accuracy: 84.9733%\n",
      "Epoch [12/12], Train Accuracy: 91.1780%, Test Accuracy: 85.4310%\n",
      "| \u001b[39m9        \u001b[39m | \u001b[39m79.68    \u001b[39m | \u001b[39m0.9889   \u001b[39m | \u001b[39m0.6489   \u001b[39m | \u001b[39m12.8     \u001b[39m | \u001b[39m7.914e-05\u001b[39m | \u001b[39m110.3    \u001b[39m |\n",
      "Epoch [1/12], Train Accuracy: 63.3292%, Test Accuracy: 70.1754%\n",
      "Epoch [2/12], Train Accuracy: 83.5988%, Test Accuracy: 78.2609%\n",
      "Epoch [3/12], Train Accuracy: 86.6970%, Test Accuracy: 80.4729%\n",
      "Epoch [4/12], Train Accuracy: 88.1323%, Test Accuracy: 82.8375%\n",
      "Epoch [5/12], Train Accuracy: 89.7077%, Test Accuracy: 84.8970%\n",
      "Epoch [6/12], Train Accuracy: 90.1628%, Test Accuracy: 85.9649%\n",
      "Epoch [7/12], Train Accuracy: 90.8104%, Test Accuracy: 85.7361%\n",
      "Epoch [8/12], Train Accuracy: 91.3005%, Test Accuracy: 85.7361%\n",
      "Epoch [9/12], Train Accuracy: 91.8782%, Test Accuracy: 84.8970%\n",
      "Epoch [10/12], Train Accuracy: 91.8432%, Test Accuracy: 85.2021%\n",
      "Epoch [11/12], Train Accuracy: 92.5783%, Test Accuracy: 86.6514%\n",
      "Epoch [12/12], Train Accuracy: 92.9284%, Test Accuracy: 85.9649%\n",
      "| \u001b[39m10       \u001b[39m | \u001b[39m79.0     \u001b[39m | \u001b[39m0.4479   \u001b[39m | \u001b[39m0.7452   \u001b[39m | \u001b[39m12.94    \u001b[39m | \u001b[39m2.949e-05\u001b[39m | \u001b[39m113.0    \u001b[39m |\n"
     ]
    },
    {
     "name": "stderr",
     "output_type": "stream",
     "text": [
      "C:\\Users\\Academica\\AppData\\Local\\Temp\\ipykernel_15160\\1764170150.py:50: UserWarning: Implicit dimension choice for softmax has been deprecated. Change the call to include dim=X as an argument.\n",
      "  x = torch.functional.F.softmax(x)\n"
     ]
    },
    {
     "name": "stdout",
     "output_type": "stream",
     "text": [
      "Epoch [1/19], Train Accuracy: 67.0751%, Test Accuracy: 72.0824%\n",
      "Epoch [2/19], Train Accuracy: 83.2487%, Test Accuracy: 76.9641%\n",
      "Epoch [3/19], Train Accuracy: 86.0319%, Test Accuracy: 81.0069%\n",
      "Epoch [4/19], Train Accuracy: 88.0448%, Test Accuracy: 81.8459%\n",
      "Epoch [5/19], Train Accuracy: 89.5501%, Test Accuracy: 84.4394%\n",
      "Epoch [6/19], Train Accuracy: 90.2503%, Test Accuracy: 84.8207%\n",
      "Epoch [7/19], Train Accuracy: 90.7754%, Test Accuracy: 85.4310%\n",
      "Epoch [8/19], Train Accuracy: 91.2830%, Test Accuracy: 86.1175%\n",
      "Epoch [9/19], Train Accuracy: 91.8782%, Test Accuracy: 85.5072%\n",
      "Epoch [10/19], Train Accuracy: 91.5981%, Test Accuracy: 86.3463%\n",
      "Epoch [11/19], Train Accuracy: 92.6483%, Test Accuracy: 86.8802%\n",
      "Epoch [12/19], Train Accuracy: 93.0159%, Test Accuracy: 86.5751%\n",
      "Epoch [13/19], Train Accuracy: 93.0509%, Test Accuracy: 85.3547%\n",
      "Epoch [14/19], Train Accuracy: 93.5060%, Test Accuracy: 87.9481%\n",
      "Epoch [15/19], Train Accuracy: 94.0312%, Test Accuracy: 87.1091%\n",
      "Epoch [16/19], Train Accuracy: 93.8211%, Test Accuracy: 88.9397%\n",
      "Epoch [17/19], Train Accuracy: 94.3112%, Test Accuracy: 88.3295%\n",
      "Epoch [18/19], Train Accuracy: 94.6613%, Test Accuracy: 89.2449%\n",
      "Epoch [19/19], Train Accuracy: 94.6613%, Test Accuracy: 89.0923%\n",
      "| \u001b[39m11       \u001b[39m | \u001b[39m83.52    \u001b[39m | \u001b[39m0.6825   \u001b[39m | \u001b[39m0.7262   \u001b[39m | \u001b[39m19.64    \u001b[39m | \u001b[39m2.113e-05\u001b[39m | \u001b[39m123.7    \u001b[39m |\n"
     ]
    },
    {
     "name": "stderr",
     "output_type": "stream",
     "text": [
      "C:\\Users\\Academica\\AppData\\Local\\Temp\\ipykernel_15160\\1764170150.py:50: UserWarning: Implicit dimension choice for softmax has been deprecated. Change the call to include dim=X as an argument.\n",
      "  x = torch.functional.F.softmax(x)\n"
     ]
    },
    {
     "name": "stdout",
     "output_type": "stream",
     "text": [
      "Epoch [1/13], Train Accuracy: 73.9191%, Test Accuracy: 74.0656%\n",
      "Epoch [2/13], Train Accuracy: 83.5113%, Test Accuracy: 78.5660%\n",
      "Epoch [3/13], Train Accuracy: 85.8043%, Test Accuracy: 80.7780%\n",
      "Epoch [4/13], Train Accuracy: 87.3271%, Test Accuracy: 81.6934%\n",
      "Epoch [5/13], Train Accuracy: 88.2023%, Test Accuracy: 83.9054%\n",
      "Epoch [6/13], Train Accuracy: 89.0775%, Test Accuracy: 83.6003%\n",
      "Epoch [7/13], Train Accuracy: 89.7252%, Test Accuracy: 85.5072%\n",
      "Epoch [8/13], Train Accuracy: 90.5129%, Test Accuracy: 85.1259%\n",
      "Epoch [9/13], Train Accuracy: 90.6529%, Test Accuracy: 84.2105%\n",
      "Epoch [10/13], Train Accuracy: 92.1057%, Test Accuracy: 86.7277%\n",
      "Epoch [11/13], Train Accuracy: 92.0532%, Test Accuracy: 86.0412%\n",
      "Epoch [12/13], Train Accuracy: 92.4558%, Test Accuracy: 86.4226%\n",
      "Epoch [13/13], Train Accuracy: 92.7359%, Test Accuracy: 87.5667%\n",
      "| \u001b[39m12       \u001b[39m | \u001b[39m82.4     \u001b[39m | \u001b[39m0.5984   \u001b[39m | \u001b[39m0.3079   \u001b[39m | \u001b[39m13.73    \u001b[39m | \u001b[39m2.451e-05\u001b[39m | \u001b[39m127.2    \u001b[39m |\n"
     ]
    },
    {
     "name": "stderr",
     "output_type": "stream",
     "text": [
      "C:\\Users\\Academica\\AppData\\Local\\Temp\\ipykernel_15160\\1764170150.py:50: UserWarning: Implicit dimension choice for softmax has been deprecated. Change the call to include dim=X as an argument.\n",
      "  x = torch.functional.F.softmax(x)\n"
     ]
    },
    {
     "name": "stdout",
     "output_type": "stream",
     "text": [
      "Epoch [1/13], Train Accuracy: 74.5843%, Test Accuracy: 76.6590%\n",
      "Epoch [2/13], Train Accuracy: 83.8964%, Test Accuracy: 80.3204%\n",
      "Epoch [3/13], Train Accuracy: 85.5417%, Test Accuracy: 80.3966%\n",
      "Epoch [4/13], Train Accuracy: 87.1346%, Test Accuracy: 83.2189%\n",
      "Epoch [5/13], Train Accuracy: 87.9748%, Test Accuracy: 84.5919%\n",
      "Epoch [6/13], Train Accuracy: 88.6574%, Test Accuracy: 83.5240%\n",
      "Epoch [7/13], Train Accuracy: 90.0053%, Test Accuracy: 83.2189%\n",
      "Epoch [8/13], Train Accuracy: 90.0578%, Test Accuracy: 85.1259%\n",
      "Epoch [9/13], Train Accuracy: 90.6529%, Test Accuracy: 85.5072%\n",
      "Epoch [10/13], Train Accuracy: 91.2655%, Test Accuracy: 84.9733%\n",
      "Epoch [11/13], Train Accuracy: 91.4581%, Test Accuracy: 86.1175%\n",
      "Epoch [12/13], Train Accuracy: 90.4428%, Test Accuracy: 86.7277%\n",
      "Epoch [13/13], Train Accuracy: 91.8782%, Test Accuracy: 86.7277%\n",
      "| \u001b[39m13       \u001b[39m | \u001b[39m81.58    \u001b[39m | \u001b[39m0.3957   \u001b[39m | \u001b[39m0.2862   \u001b[39m | \u001b[39m13.14    \u001b[39m | \u001b[39m5.993e-05\u001b[39m | \u001b[39m168.2    \u001b[39m |\n"
     ]
    },
    {
     "name": "stderr",
     "output_type": "stream",
     "text": [
      "C:\\Users\\Academica\\AppData\\Local\\Temp\\ipykernel_15160\\1764170150.py:50: UserWarning: Implicit dimension choice for softmax has been deprecated. Change the call to include dim=X as an argument.\n",
      "  x = torch.functional.F.softmax(x)\n"
     ]
    },
    {
     "name": "stdout",
     "output_type": "stream",
     "text": [
      "Epoch [1/19], Train Accuracy: 68.1428%, Test Accuracy: 74.2182%\n",
      "Epoch [2/19], Train Accuracy: 83.7914%, Test Accuracy: 77.9558%\n",
      "Epoch [3/19], Train Accuracy: 86.3294%, Test Accuracy: 78.6423%\n",
      "Epoch [4/19], Train Accuracy: 87.4322%, Test Accuracy: 82.8375%\n",
      "Epoch [5/19], Train Accuracy: 88.1148%, Test Accuracy: 82.5324%\n",
      "Epoch [6/19], Train Accuracy: 89.9352%, Test Accuracy: 83.2189%\n",
      "Epoch [7/19], Train Accuracy: 90.1103%, Test Accuracy: 83.8291%\n",
      "Epoch [8/19], Train Accuracy: 91.1780%, Test Accuracy: 85.0496%\n",
      "Epoch [9/19], Train Accuracy: 90.9155%, Test Accuracy: 84.2105%\n",
      "Epoch [10/19], Train Accuracy: 91.0380%, Test Accuracy: 85.1259%\n",
      "Epoch [11/19], Train Accuracy: 91.5631%, Test Accuracy: 85.0496%\n",
      "Epoch [12/19], Train Accuracy: 91.6506%, Test Accuracy: 86.4989%\n",
      "Epoch [13/19], Train Accuracy: 92.6658%, Test Accuracy: 84.9733%\n",
      "Epoch [14/19], Train Accuracy: 92.3858%, Test Accuracy: 85.3547%\n",
      "Epoch [15/19], Train Accuracy: 92.7884%, Test Accuracy: 85.7361%\n",
      "Epoch [16/19], Train Accuracy: 93.2610%, Test Accuracy: 84.7445%\n",
      "Epoch [17/19], Train Accuracy: 92.5958%, Test Accuracy: 87.2616%\n",
      "Epoch [18/19], Train Accuracy: 93.2785%, Test Accuracy: 87.6430%\n",
      "Epoch [19/19], Train Accuracy: 93.5235%, Test Accuracy: 85.8886%\n",
      "| \u001b[39m14       \u001b[39m | \u001b[39m78.25    \u001b[39m | \u001b[39m0.1639   \u001b[39m | \u001b[39m0.5782   \u001b[39m | \u001b[39m19.86    \u001b[39m | \u001b[39m8.56e-05 \u001b[39m | \u001b[39m133.1    \u001b[39m |\n"
     ]
    },
    {
     "name": "stderr",
     "output_type": "stream",
     "text": [
      "C:\\Users\\Academica\\AppData\\Local\\Temp\\ipykernel_15160\\1764170150.py:50: UserWarning: Implicit dimension choice for softmax has been deprecated. Change the call to include dim=X as an argument.\n",
      "  x = torch.functional.F.softmax(x)\n"
     ]
    },
    {
     "name": "stdout",
     "output_type": "stream",
     "text": [
      "Epoch [1/19], Train Accuracy: 73.2015%, Test Accuracy: 75.1335%\n",
      "Epoch [2/19], Train Accuracy: 83.2662%, Test Accuracy: 78.8711%\n",
      "Epoch [3/19], Train Accuracy: 85.8043%, Test Accuracy: 80.4729%\n",
      "Epoch [4/19], Train Accuracy: 87.5722%, Test Accuracy: 82.4561%\n",
      "Epoch [5/19], Train Accuracy: 88.5524%, Test Accuracy: 83.5240%\n",
      "Epoch [6/19], Train Accuracy: 88.7800%, Test Accuracy: 84.6682%\n",
      "Epoch [7/19], Train Accuracy: 89.9527%, Test Accuracy: 83.9054%\n",
      "Epoch [8/19], Train Accuracy: 90.3203%, Test Accuracy: 86.1175%\n",
      "Epoch [9/19], Train Accuracy: 91.1955%, Test Accuracy: 85.9649%\n",
      "Epoch [10/19], Train Accuracy: 91.3706%, Test Accuracy: 85.2784%\n",
      "Epoch [11/19], Train Accuracy: 91.3356%, Test Accuracy: 85.6598%\n",
      "Epoch [12/19], Train Accuracy: 92.1757%, Test Accuracy: 86.4226%\n",
      "Epoch [13/19], Train Accuracy: 92.7009%, Test Accuracy: 86.8040%\n",
      "Epoch [14/19], Train Accuracy: 92.6834%, Test Accuracy: 87.8719%\n",
      "Epoch [15/19], Train Accuracy: 93.6111%, Test Accuracy: 87.4905%\n",
      "Epoch [16/19], Train Accuracy: 93.3660%, Test Accuracy: 87.0328%\n",
      "Epoch [17/19], Train Accuracy: 92.6483%, Test Accuracy: 87.8719%\n",
      "Epoch [18/19], Train Accuracy: 93.9436%, Test Accuracy: 86.7277%\n",
      "Epoch [19/19], Train Accuracy: 94.0312%, Test Accuracy: 87.7956%\n",
      "| \u001b[39m15       \u001b[39m | \u001b[39m81.56    \u001b[39m | \u001b[39m0.2761   \u001b[39m | \u001b[39m0.2347   \u001b[39m | \u001b[39m19.95    \u001b[39m | \u001b[39m5.112e-05\u001b[39m | \u001b[39m118.1    \u001b[39m |\n"
     ]
    },
    {
     "name": "stderr",
     "output_type": "stream",
     "text": [
      "C:\\Users\\Academica\\AppData\\Local\\Temp\\ipykernel_15160\\1764170150.py:50: UserWarning: Implicit dimension choice for softmax has been deprecated. Change the call to include dim=X as an argument.\n",
      "  x = torch.functional.F.softmax(x)\n"
     ]
    },
    {
     "name": "stdout",
     "output_type": "stream",
     "text": [
      "Epoch [1/19], Train Accuracy: 67.3377%, Test Accuracy: 72.9977%\n",
      "Epoch [2/19], Train Accuracy: 83.5463%, Test Accuracy: 78.2609%\n",
      "Epoch [3/19], Train Accuracy: 86.1194%, Test Accuracy: 81.1594%\n",
      "Epoch [4/19], Train Accuracy: 88.2198%, Test Accuracy: 83.5240%\n",
      "Epoch [5/19], Train Accuracy: 89.0775%, Test Accuracy: 84.5156%\n",
      "Epoch [6/19], Train Accuracy: 89.8302%, Test Accuracy: 85.2021%\n",
      "Epoch [7/19], Train Accuracy: 91.0905%, Test Accuracy: 84.8970%\n",
      "Epoch [8/19], Train Accuracy: 91.5281%, Test Accuracy: 85.8886%\n",
      "Epoch [9/19], Train Accuracy: 91.7381%, Test Accuracy: 86.2700%\n",
      "Epoch [10/19], Train Accuracy: 92.9984%, Test Accuracy: 87.7956%\n",
      "Epoch [11/19], Train Accuracy: 92.5433%, Test Accuracy: 87.7193%\n",
      "Epoch [12/19], Train Accuracy: 93.2610%, Test Accuracy: 86.8802%\n",
      "Epoch [13/19], Train Accuracy: 93.7861%, Test Accuracy: 88.5584%\n",
      "Epoch [14/19], Train Accuracy: 94.0312%, Test Accuracy: 89.3974%\n",
      "Epoch [15/19], Train Accuracy: 94.1887%, Test Accuracy: 89.4737%\n",
      "Epoch [16/19], Train Accuracy: 94.5913%, Test Accuracy: 89.3211%\n",
      "Epoch [17/19], Train Accuracy: 94.3287%, Test Accuracy: 88.5584%\n",
      "Epoch [18/19], Train Accuracy: 94.7838%, Test Accuracy: 89.1686%\n",
      "Epoch [19/19], Train Accuracy: 95.0989%, Test Accuracy: 90.4653%\n",
      "| \u001b[35m16       \u001b[39m | \u001b[35m85.83    \u001b[39m | \u001b[35m0.8726   \u001b[39m | \u001b[35m0.7822   \u001b[39m | \u001b[35m19.79    \u001b[39m | \u001b[35m2.349e-05\u001b[39m | \u001b[35m164.2    \u001b[39m |\n"
     ]
    },
    {
     "name": "stderr",
     "output_type": "stream",
     "text": [
      "C:\\Users\\Academica\\AppData\\Local\\Temp\\ipykernel_15160\\1764170150.py:50: UserWarning: Implicit dimension choice for softmax has been deprecated. Change the call to include dim=X as an argument.\n",
      "  x = torch.functional.F.softmax(x)\n"
     ]
    },
    {
     "name": "stdout",
     "output_type": "stream",
     "text": [
      "Epoch [1/19], Train Accuracy: 76.0896%, Test Accuracy: 73.3791%\n",
      "Epoch [2/19], Train Accuracy: 84.5965%, Test Accuracy: 80.7018%\n",
      "Epoch [3/19], Train Accuracy: 86.2769%, Test Accuracy: 81.7696%\n",
      "Epoch [4/19], Train Accuracy: 87.3447%, Test Accuracy: 81.0831%\n",
      "Epoch [5/19], Train Accuracy: 88.4474%, Test Accuracy: 84.3631%\n",
      "Epoch [6/19], Train Accuracy: 88.9725%, Test Accuracy: 84.1342%\n",
      "Epoch [7/19], Train Accuracy: 90.1628%, Test Accuracy: 84.7445%\n",
      "Epoch [8/19], Train Accuracy: 90.5654%, Test Accuracy: 84.7445%\n",
      "Epoch [9/19], Train Accuracy: 90.4428%, Test Accuracy: 84.9733%\n",
      "Epoch [10/19], Train Accuracy: 90.9330%, Test Accuracy: 86.0412%\n",
      "Epoch [11/19], Train Accuracy: 91.8607%, Test Accuracy: 86.1937%\n",
      "Epoch [12/19], Train Accuracy: 91.6506%, Test Accuracy: 85.8124%\n",
      "Epoch [13/19], Train Accuracy: 91.9832%, Test Accuracy: 85.5835%\n",
      "Epoch [14/19], Train Accuracy: 92.6483%, Test Accuracy: 86.5751%\n",
      "Epoch [15/19], Train Accuracy: 92.6483%, Test Accuracy: 85.8886%\n",
      "Epoch [16/19], Train Accuracy: 92.7884%, Test Accuracy: 85.0496%\n",
      "Epoch [17/19], Train Accuracy: 92.9984%, Test Accuracy: 88.2532%\n",
      "Epoch [18/19], Train Accuracy: 93.4360%, Test Accuracy: 88.1770%\n",
      "Epoch [19/19], Train Accuracy: 93.9086%, Test Accuracy: 88.0244%\n",
      "| \u001b[39m17       \u001b[39m | \u001b[39m82.14    \u001b[39m | \u001b[39m0.1102   \u001b[39m | \u001b[39m0.2115   \u001b[39m | \u001b[39m19.7     \u001b[39m | \u001b[39m3.514e-05\u001b[39m | \u001b[39m199.9    \u001b[39m |\n"
     ]
    },
    {
     "name": "stderr",
     "output_type": "stream",
     "text": [
      "C:\\Users\\Academica\\AppData\\Local\\Temp\\ipykernel_15160\\1764170150.py:50: UserWarning: Implicit dimension choice for softmax has been deprecated. Change the call to include dim=X as an argument.\n",
      "  x = torch.functional.F.softmax(x)\n"
     ]
    },
    {
     "name": "stdout",
     "output_type": "stream",
     "text": [
      "Epoch [1/10], Train Accuracy: 64.0994%, Test Accuracy: 67.5057%\n",
      "Epoch [2/10], Train Accuracy: 77.9800%, Test Accuracy: 72.2349%\n",
      "Epoch [3/10], Train Accuracy: 82.6361%, Test Accuracy: 75.9725%\n",
      "Epoch [4/10], Train Accuracy: 84.1939%, Test Accuracy: 77.0404%\n",
      "Epoch [5/10], Train Accuracy: 85.0166%, Test Accuracy: 77.7269%\n",
      "Epoch [6/10], Train Accuracy: 85.7518%, Test Accuracy: 79.0999%\n",
      "Epoch [7/10], Train Accuracy: 86.3819%, Test Accuracy: 78.9474%\n",
      "Epoch [8/10], Train Accuracy: 87.1521%, Test Accuracy: 79.7101%\n",
      "Epoch [9/10], Train Accuracy: 87.5197%, Test Accuracy: 80.2441%\n",
      "Epoch [10/10], Train Accuracy: 88.1498%, Test Accuracy: 81.9222%\n",
      "| \u001b[39m18       \u001b[39m | \u001b[39m75.69    \u001b[39m | \u001b[39m0.0885   \u001b[39m | \u001b[39m0.7142   \u001b[39m | \u001b[39m10.42    \u001b[39m | \u001b[39m1.478e-06\u001b[39m | \u001b[39m199.8    \u001b[39m |\n"
     ]
    },
    {
     "name": "stderr",
     "output_type": "stream",
     "text": [
      "C:\\Users\\Academica\\AppData\\Local\\Temp\\ipykernel_15160\\1764170150.py:50: UserWarning: Implicit dimension choice for softmax has been deprecated. Change the call to include dim=X as an argument.\n",
      "  x = torch.functional.F.softmax(x)\n"
     ]
    },
    {
     "name": "stdout",
     "output_type": "stream",
     "text": [
      "Epoch [1/19], Train Accuracy: 70.9960%, Test Accuracy: 73.2265%\n",
      "Epoch [2/19], Train Accuracy: 83.2837%, Test Accuracy: 78.7948%\n",
      "Epoch [3/19], Train Accuracy: 86.2069%, Test Accuracy: 76.7353%\n",
      "Epoch [4/19], Train Accuracy: 87.2396%, Test Accuracy: 80.8543%\n",
      "Epoch [5/19], Train Accuracy: 87.7472%, Test Accuracy: 82.1510%\n",
      "Epoch [6/19], Train Accuracy: 89.0775%, Test Accuracy: 81.0069%\n",
      "Epoch [7/19], Train Accuracy: 89.6902%, Test Accuracy: 81.9985%\n",
      "Epoch [8/19], Train Accuracy: 90.1803%, Test Accuracy: 83.6003%\n",
      "Epoch [9/19], Train Accuracy: 90.1453%, Test Accuracy: 83.5240%\n",
      "Epoch [10/19], Train Accuracy: 90.6529%, Test Accuracy: 83.4477%\n",
      "Epoch [11/19], Train Accuracy: 91.3005%, Test Accuracy: 84.5919%\n",
      "Epoch [12/19], Train Accuracy: 91.8607%, Test Accuracy: 84.9733%\n",
      "Epoch [13/19], Train Accuracy: 91.9482%, Test Accuracy: 84.2105%\n",
      "Epoch [14/19], Train Accuracy: 92.6483%, Test Accuracy: 85.3547%\n",
      "Epoch [15/19], Train Accuracy: 92.9459%, Test Accuracy: 86.1175%\n",
      "Epoch [16/19], Train Accuracy: 92.9284%, Test Accuracy: 85.8886%\n",
      "Epoch [17/19], Train Accuracy: 93.4535%, Test Accuracy: 83.6766%\n",
      "Epoch [18/19], Train Accuracy: 93.4885%, Test Accuracy: 86.9565%\n",
      "Epoch [19/19], Train Accuracy: 93.7161%, Test Accuracy: 86.7277%\n",
      "| \u001b[39m19       \u001b[39m | \u001b[39m79.74    \u001b[39m | \u001b[39m0.1784   \u001b[39m | \u001b[39m0.6066   \u001b[39m | \u001b[39m19.99    \u001b[39m | \u001b[39m7.691e-05\u001b[39m | \u001b[39m161.1    \u001b[39m |\n"
     ]
    },
    {
     "name": "stderr",
     "output_type": "stream",
     "text": [
      "C:\\Users\\Academica\\AppData\\Local\\Temp\\ipykernel_15160\\1764170150.py:50: UserWarning: Implicit dimension choice for softmax has been deprecated. Change the call to include dim=X as an argument.\n",
      "  x = torch.functional.F.softmax(x)\n"
     ]
    },
    {
     "name": "stdout",
     "output_type": "stream",
     "text": [
      "Epoch [1/17], Train Accuracy: 72.4663%, Test Accuracy: 71.7773%\n",
      "Epoch [2/17], Train Accuracy: 83.4063%, Test Accuracy: 76.7353%\n",
      "Epoch [3/17], Train Accuracy: 86.4520%, Test Accuracy: 80.8543%\n",
      "Epoch [4/17], Train Accuracy: 87.5547%, Test Accuracy: 83.7529%\n",
      "Epoch [5/17], Train Accuracy: 89.0600%, Test Accuracy: 80.8543%\n",
      "Epoch [6/17], Train Accuracy: 89.8477%, Test Accuracy: 83.8291%\n",
      "Epoch [7/17], Train Accuracy: 90.3903%, Test Accuracy: 83.9817%\n",
      "Epoch [8/17], Train Accuracy: 90.5129%, Test Accuracy: 85.1259%\n",
      "Epoch [9/17], Train Accuracy: 91.4406%, Test Accuracy: 86.2700%\n",
      "Epoch [10/17], Train Accuracy: 91.8782%, Test Accuracy: 86.4989%\n",
      "Epoch [11/17], Train Accuracy: 92.4033%, Test Accuracy: 86.9565%\n",
      "Epoch [12/17], Train Accuracy: 92.6308%, Test Accuracy: 85.8886%\n",
      "Epoch [13/17], Train Accuracy: 92.8934%, Test Accuracy: 87.4142%\n",
      "Epoch [14/17], Train Accuracy: 93.4535%, Test Accuracy: 87.1854%\n",
      "Epoch [15/17], Train Accuracy: 92.9984%, Test Accuracy: 86.8802%\n",
      "Epoch [16/17], Train Accuracy: 93.3660%, Test Accuracy: 87.7193%\n",
      "Epoch [17/17], Train Accuracy: 93.6986%, Test Accuracy: 87.6430%\n",
      "| \u001b[39m20       \u001b[39m | \u001b[39m81.59    \u001b[39m | \u001b[39m0.7144   \u001b[39m | \u001b[39m0.4674   \u001b[39m | \u001b[39m17.42    \u001b[39m | \u001b[39m1.172e-05\u001b[39m | \u001b[39m165.8    \u001b[39m |\n",
      "=====================================================================================\n"
     ]
    }
   ],
   "source": [
    "bayes_optimizer.maximize(init_points=10,n_iter=10)"
   ]
  },
  {
   "cell_type": "markdown",
   "id": "a9f6619b-d22c-42ae-a405-6b603d77737c",
   "metadata": {},
   "source": [
    "# **Mejores Modelos**"
   ]
  },
  {
   "cell_type": "code",
   "execution_count": 83,
   "id": "bf9cadd0-56c8-49e6-8bd8-c0f57fcb6219",
   "metadata": {
    "scrolled": true
   },
   "outputs": [],
   "source": [
    "models_2 = models[9:]"
   ]
  },
  {
   "cell_type": "code",
   "execution_count": 30,
   "id": "e55bc652-a840-40b8-b189-7aa55936be51",
   "metadata": {},
   "outputs": [],
   "source": [
    "i = 0\n",
    "for mod in models_2:\n",
    "\n",
    "    torch.save(mod.state_dict(),'modelos/brain_tumor_cnn_model_{}.pt'.format(i+1))\n",
    "    i = i+1"
   ]
  },
  {
   "cell_type": "code",
   "execution_count": 37,
   "id": "b316d79c-e003-4392-bbfa-f9bb482ce2fe",
   "metadata": {},
   "outputs": [],
   "source": [
    "best_model = models_2[15]"
   ]
  },
  {
   "cell_type": "code",
   "execution_count": 55,
   "id": "c11266aa-95f6-4645-b475-748465aee6a8",
   "metadata": {},
   "outputs": [],
   "source": [
    "def compute_predictions(model, dataloader, device):\n",
    "    model.eval()  # Cambiar a modo evaluación\n",
    "    all_preds = []\n",
    "    all_labels = []\n",
    "\n",
    "    with torch.no_grad():\n",
    "        for images, labels in dataloader:\n",
    "            images, labels = images.to(device), labels.to(device)\n",
    "            outputs = model(images)  # Forward pass\n",
    "            _, preds = torch.max(outputs, 1)  # Predicción de la clase con mayor probabilidad\n",
    "            all_preds.append(preds.cpu().numpy())\n",
    "            all_labels.append(labels.cpu().numpy())\n",
    "\n",
    "    # Concatenar todas las predicciones y etiquetas\n",
    "    all_preds = np.concatenate(all_preds)\n",
    "    all_labels = np.concatenate(all_labels)\n",
    "    return all_labels, all_preds\n",
    "\n",
    "# Función para graficar la matriz de confusión\n",
    "def plot_confusion_matrix(labels, preds, class_names):\n",
    "    cm = confusion_matrix(labels, preds,normalize='true')\n",
    "    disp = ConfusionMatrixDisplay(confusion_matrix=cm, display_labels=class_names)\n",
    "    plt.figure(figsize=(20,20))\n",
    "    disp.plot(cmap='viridis', xticks_rotation='vertical')  # Personaliza el diseño aquí\n",
    "    plt.title(\"Confusion Matrix\")\n",
    "    plt.show()\n"
   ]
  },
  {
   "cell_type": "code",
   "execution_count": 50,
   "id": "cbf129d1-6195-4e72-9096-9cd6d79eb37f",
   "metadata": {},
   "outputs": [
    {
     "name": "stderr",
     "output_type": "stream",
     "text": [
      "C:\\Users\\Academica\\AppData\\Local\\Temp\\ipykernel_15160\\1764170150.py:50: UserWarning: Implicit dimension choice for softmax has been deprecated. Change the call to include dim=X as an argument.\n",
      "  x = torch.functional.F.softmax(x)\n"
     ]
    }
   ],
   "source": [
    "\n",
    "\n",
    "device = torch.device(\"cuda\" if torch.cuda.is_available() else \"cpu\")\n",
    "best_model.to(device)\n",
    "\n",
    "# Obtener etiquetas reales y predichas\n",
    "true_labels, predicted_labels = compute_predictions(best_model, test_loader, device)\n",
    "\n",
    "# Lista con los nombres de las clases \n",
    "class_names = test_loader.dataset.classes \n",
    "\n"
   ]
  },
  {
   "cell_type": "code",
   "execution_count": 57,
   "id": "071ad9b8-c793-42a6-a55b-7a59747aae07",
   "metadata": {},
   "outputs": [
    {
     "data": {
      "text/plain": [
       "<Figure size 2000x2000 with 0 Axes>"
      ]
     },
     "metadata": {},
     "output_type": "display_data"
    },
    {
     "data": {
      "image/png": "[encoded data removed]",
      "text/plain": [
       "<Figure size 640x480 with 2 Axes>"
      ]
     },
     "metadata": {},
     "output_type": "display_data"
    }
   ],
   "source": [
    "# Graficar la matriz de confusión\n",
    "plot_confusion_matrix(true_labels, predicted_labels,class_names)\n",
    "plt.show();"
   ]
  },
  {
   "cell_type": "code",
   "execution_count": 80,
   "id": "295def69-0a56-4d52-b410-61ceb4d557ed",
   "metadata": {},
   "outputs": [
    {
     "name": "stdout",
     "output_type": "stream",
     "text": [
      "==========================================================================================\n",
      "Layer (type:depth-idx)                   Output Shape              Param #\n",
      "==========================================================================================\n",
      "├─BatchNorm2d: 1-1                       [-1, 3, 224, 224]         6\n",
      "├─Conv2d: 1-2                            [-1, 16, 226, 226]        448\n",
      "├─MaxPool2d: 1-3                         [-1, 16, 113, 113]        --\n",
      "├─ReLU: 1-4                              [-1, 16, 113, 113]        --\n",
      "├─Conv2d: 1-5                            [-1, 32, 115, 115]        4,640\n",
      "├─MaxPool2d: 1-6                         [-1, 32, 57, 57]          --\n",
      "├─ReLU: 1-7                              [-1, 32, 57, 57]          --\n",
      "├─BatchNorm2d: 1-8                       [-1, 32, 57, 57]          64\n",
      "├─Flatten: 1-9                           [-1, 103968]              --\n",
      "├─Linear: 1-10                           [-1, 164]                 17,050,916\n",
      "├─ReLU: 1-11                             [-1, 164]                 --\n",
      "├─Dropout: 1-12                          [-1, 164]                 --\n",
      "├─Linear: 1-13                           [-1, 4]                   660\n",
      "==========================================================================================\n",
      "Total params: 17,056,734\n",
      "Trainable params: 17,056,734\n",
      "Non-trainable params: 0\n",
      "Total mult-adds (M): 100.06\n",
      "==========================================================================================\n",
      "Input size (MB): 0.57\n",
      "Forward/backward pass size (MB): 11.41\n",
      "Params size (MB): 65.07\n",
      "Estimated Total Size (MB): 77.05\n",
      "==========================================================================================\n"
     ]
    },
    {
     "name": "stderr",
     "output_type": "stream",
     "text": [
      "C:\\Users\\Academica\\AppData\\Local\\Temp\\ipykernel_15160\\1764170150.py:50: UserWarning: Implicit dimension choice for softmax has been deprecated. Change the call to include dim=X as an argument.\n",
      "  x = torch.functional.F.softmax(x)\n"
     ]
    },
    {
     "data": {
      "text/plain": [
       "==========================================================================================\n",
       "Layer (type:depth-idx)                   Output Shape              Param #\n",
       "==========================================================================================\n",
       "├─BatchNorm2d: 1-1                       [-1, 3, 224, 224]         6\n",
       "├─Conv2d: 1-2                            [-1, 16, 226, 226]        448\n",
       "├─MaxPool2d: 1-3                         [-1, 16, 113, 113]        --\n",
       "├─ReLU: 1-4                              [-1, 16, 113, 113]        --\n",
       "├─Conv2d: 1-5                            [-1, 32, 115, 115]        4,640\n",
       "├─MaxPool2d: 1-6                         [-1, 32, 57, 57]          --\n",
       "├─ReLU: 1-7                              [-1, 32, 57, 57]          --\n",
       "├─BatchNorm2d: 1-8                       [-1, 32, 57, 57]          64\n",
       "├─Flatten: 1-9                           [-1, 103968]              --\n",
       "├─Linear: 1-10                           [-1, 164]                 17,050,916\n",
       "├─ReLU: 1-11                             [-1, 164]                 --\n",
       "├─Dropout: 1-12                          [-1, 164]                 --\n",
       "├─Linear: 1-13                           [-1, 4]                   660\n",
       "==========================================================================================\n",
       "Total params: 17,056,734\n",
       "Trainable params: 17,056,734\n",
       "Non-trainable params: 0\n",
       "Total mult-adds (M): 100.06\n",
       "==========================================================================================\n",
       "Input size (MB): 0.57\n",
       "Forward/backward pass size (MB): 11.41\n",
       "Params size (MB): 65.07\n",
       "Estimated Total Size (MB): 77.05\n",
       "=========================================================================================="
      ]
     },
     "execution_count": 80,
     "metadata": {},
     "output_type": "execute_result"
    }
   ],
   "source": [
    "summary(best_model,(3,224,224))"
   ]
  },
  {
   "cell_type": "code",
   "execution_count": 61,
   "id": "1a85f344-b566-4528-98a8-3f7c8333cb93",
   "metadata": {},
   "outputs": [],
   "source": [
    "best_models_index = [3,6,10,11,15]\n",
    "train_accuracy = []\n",
    "test_accuracy = []\n",
    "models_names = []"
   ]
  },
  {
   "cell_type": "code",
   "execution_count": 62,
   "id": "a8d4bc04-a80d-461d-ae75-c99c360a5117",
   "metadata": {},
   "outputs": [
    {
     "name": "stderr",
     "output_type": "stream",
     "text": [
      "C:\\Users\\Academica\\AppData\\Local\\Temp\\ipykernel_15160\\1764170150.py:50: UserWarning: Implicit dimension choice for softmax has been deprecated. Change the call to include dim=X as an argument.\n",
      "  x = torch.functional.F.softmax(x)\n"
     ]
    }
   ],
   "source": [
    "for i in best_models_index:\n",
    "    train_accuracy.append(evaluate_model(models_2[i],train_loader))\n",
    "    test_accuracy.append(evaluate_model(models_2[i],test_loader))\n",
    "    models_names.append('model {}'.format(i))"
   ]
  },
  {
   "cell_type": "code",
   "execution_count": 70,
   "id": "910de0fa-9674-4c5d-970c-67bf0817872b",
   "metadata": {},
   "outputs": [
    {
     "data": {
      "image/png": "[encoded data removed]",
      "text/plain": [
       "<Figure size 1200x600 with 1 Axes>"
      ]
     },
     "metadata": {},
     "output_type": "display_data"
    }
   ],
   "source": [
    "plt.figure(figsize=(12,6))\n",
    "plt.plot(train_accuracy, color = 'blue', label='Train Accuracy',marker='o')\n",
    "plt.plot(test_accuracy, color = 'red', label = 'Test Accuracy',marker='o')\n",
    "plt.xlabel('Modelos')\n",
    "plt.ylabel('Accuracy')\n",
    "plt.grid(True)\n",
    "plt.xticks([0,1,2,3,4],models_names,rotation=45)\n",
    "plt.legend()\n",
    "plt.show()"
   ]
  }
 ],
 "metadata": {
  "kernelspec": {
   "display_name": "Python 3 (ipykernel)",
   "language": "python",
   "name": "python3"
  },
  "language_info": {
   "codemirror_mode": {
    "name": "ipython",
    "version": 3
   },
   "file_extension": ".py",
   "mimetype": "text/x-python",
   "name": "python",
   "nbconvert_exporter": "python",
   "pygments_lexer": "ipython3",
   "version": "3.12.3"
  }
 },
 "nbformat": 4,
 "nbformat_minor": 5
}
